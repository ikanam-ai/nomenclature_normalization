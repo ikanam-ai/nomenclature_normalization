{
 "cells": [
  {
   "cell_type": "code",
   "execution_count": 1,
   "id": "a88ee0c7",
   "metadata": {},
   "outputs": [],
   "source": [
    "import pandas as pd\n",
    "import warnings\n",
    "warnings.filterwarnings(\"ignore\")"
   ]
  },
  {
   "cell_type": "code",
   "execution_count": 2,
   "id": "becfce80",
   "metadata": {},
   "outputs": [],
   "source": [
    "ksr = pd.read_csv('ksr_clean.csv')"
   ]
  },
  {
   "cell_type": "code",
   "execution_count": 3,
   "id": "dd8d110b",
   "metadata": {},
   "outputs": [],
   "source": [
    "df = pd.read_excel('train.xlsx')"
   ]
  },
  {
   "cell_type": "code",
   "execution_count": 8,
   "id": "ae229e57",
   "metadata": {},
   "outputs": [
    {
     "data": {
      "text/html": [
       "<div>\n",
       "<style scoped>\n",
       "    .dataframe tbody tr th:only-of-type {\n",
       "        vertical-align: middle;\n",
       "    }\n",
       "\n",
       "    .dataframe tbody tr th {\n",
       "        vertical-align: top;\n",
       "    }\n",
       "\n",
       "    .dataframe thead th {\n",
       "        text-align: right;\n",
       "    }\n",
       "</style>\n",
       "<table border=\"1\" class=\"dataframe\">\n",
       "  <thead>\n",
       "    <tr style=\"text-align: right;\">\n",
       "      <th></th>\n",
       "      <th>record_name</th>\n",
       "      <th>record_name_2</th>\n",
       "      <th>ref_code</th>\n",
       "      <th>ref_name</th>\n",
       "      <th>ref_unit</th>\n",
       "    </tr>\n",
       "  </thead>\n",
       "  <tbody>\n",
       "    <tr>\n",
       "      <th>0</th>\n",
       "      <td>DIN -рейка оцинкованная ТН35-7.5 100 см (Chint)</td>\n",
       "      <td>DIN-рейка 35х7,5 мм длиной 1000 мм</td>\n",
       "      <td>27.33.13.130.20.2.08.01-0001-000</td>\n",
       "      <td>DIN-рейки металлические, оцинкованные, размеры...</td>\n",
       "      <td>100 шт</td>\n",
       "    </tr>\n",
       "    <tr>\n",
       "      <th>1</th>\n",
       "      <td>Анкерный элемент ТехноНиколь 8*45мм</td>\n",
       "      <td>Анкерный элемент TN 8x4.5</td>\n",
       "      <td>25.94.11.190.01.7.15.01-1169-000</td>\n",
       "      <td>Анкер грунтовый забивной самораскрывающийся, о...</td>\n",
       "      <td>шт</td>\n",
       "    </tr>\n",
       "    <tr>\n",
       "      <th>2</th>\n",
       "      <td>Анкер забивной М10 DRM 12x40 сталь</td>\n",
       "      <td>Анкер втулочный M10</td>\n",
       "      <td>25.94.11.190.01.7.15.01-0037-000</td>\n",
       "      <td>Анкер забивной латунный, диаметр внутренней ре...</td>\n",
       "      <td>шт</td>\n",
       "    </tr>\n",
       "    <tr>\n",
       "      <th>3</th>\n",
       "      <td>Анкер забивной М10/12x40</td>\n",
       "      <td>Анкер втулочный M10</td>\n",
       "      <td>25.94.11.190.01.7.15.01-0037-000</td>\n",
       "      <td>Анкер забивной латунный, диаметр внутренней ре...</td>\n",
       "      <td>шт</td>\n",
       "    </tr>\n",
       "    <tr>\n",
       "      <th>4</th>\n",
       "      <td>Анкер забивной М8 LAZ латунь</td>\n",
       "      <td>Анкер втулочный M8</td>\n",
       "      <td>25.94.11.190.01.7.15.01-0036-000</td>\n",
       "      <td>Анкер забивной латунный, диаметр внутренней ре...</td>\n",
       "      <td>шт</td>\n",
       "    </tr>\n",
       "  </tbody>\n",
       "</table>\n",
       "</div>"
      ],
      "text/plain": [
       "                                       record_name  \\\n",
       "0  DIN -рейка оцинкованная ТН35-7.5 100 см (Chint)   \n",
       "1              Анкерный элемент ТехноНиколь 8*45мм   \n",
       "2               Анкер забивной М10 DRM 12x40 сталь   \n",
       "3                         Анкер забивной М10/12x40   \n",
       "4                     Анкер забивной М8 LAZ латунь   \n",
       "\n",
       "                        record_name_2                          ref_code  \\\n",
       "0  DIN-рейка 35х7,5 мм длиной 1000 мм  27.33.13.130.20.2.08.01-0001-000   \n",
       "1           Анкерный элемент TN 8x4.5  25.94.11.190.01.7.15.01-1169-000   \n",
       "2                 Анкер втулочный M10  25.94.11.190.01.7.15.01-0037-000   \n",
       "3                 Анкер втулочный M10  25.94.11.190.01.7.15.01-0037-000   \n",
       "4                  Анкер втулочный M8  25.94.11.190.01.7.15.01-0036-000   \n",
       "\n",
       "                                            ref_name ref_unit  \n",
       "0  DIN-рейки металлические, оцинкованные, размеры...   100 шт  \n",
       "1  Анкер грунтовый забивной самораскрывающийся, о...       шт  \n",
       "2  Анкер забивной латунный, диаметр внутренней ре...       шт  \n",
       "3  Анкер забивной латунный, диаметр внутренней ре...       шт  \n",
       "4  Анкер забивной латунный, диаметр внутренней ре...       шт  "
      ]
     },
     "execution_count": 8,
     "metadata": {},
     "output_type": "execute_result"
    }
   ],
   "source": [
    "df.head()"
   ]
  },
  {
   "cell_type": "code",
   "execution_count": 9,
   "id": "b4eb22b4",
   "metadata": {},
   "outputs": [],
   "source": [
    "# df = df.drop(['target', 'id'], axis=1)\n",
    "df = df[['record_name', 'ref_name']]"
   ]
  },
  {
   "cell_type": "code",
   "execution_count": 10,
   "id": "869fdbdc",
   "metadata": {},
   "outputs": [
    {
     "data": {
      "text/html": [
       "<div>\n",
       "<style scoped>\n",
       "    .dataframe tbody tr th:only-of-type {\n",
       "        vertical-align: middle;\n",
       "    }\n",
       "\n",
       "    .dataframe tbody tr th {\n",
       "        vertical-align: top;\n",
       "    }\n",
       "\n",
       "    .dataframe thead th {\n",
       "        text-align: right;\n",
       "    }\n",
       "</style>\n",
       "<table border=\"1\" class=\"dataframe\">\n",
       "  <thead>\n",
       "    <tr style=\"text-align: right;\">\n",
       "      <th></th>\n",
       "      <th>record_name</th>\n",
       "      <th>ref_name</th>\n",
       "    </tr>\n",
       "  </thead>\n",
       "  <tbody>\n",
       "    <tr>\n",
       "      <th>0</th>\n",
       "      <td>DIN -рейка оцинкованная ТН35-7.5 100 см (Chint)</td>\n",
       "      <td>DIN-рейки металлические, оцинкованные, размеры...</td>\n",
       "    </tr>\n",
       "    <tr>\n",
       "      <th>1</th>\n",
       "      <td>Анкерный элемент ТехноНиколь 8*45мм</td>\n",
       "      <td>Анкер грунтовый забивной самораскрывающийся, о...</td>\n",
       "    </tr>\n",
       "    <tr>\n",
       "      <th>2</th>\n",
       "      <td>Анкер забивной М10 DRM 12x40 сталь</td>\n",
       "      <td>Анкер забивной латунный, диаметр внутренней ре...</td>\n",
       "    </tr>\n",
       "    <tr>\n",
       "      <th>3</th>\n",
       "      <td>Анкер забивной М10/12x40</td>\n",
       "      <td>Анкер забивной латунный, диаметр внутренней ре...</td>\n",
       "    </tr>\n",
       "    <tr>\n",
       "      <th>4</th>\n",
       "      <td>Анкер забивной М8 LAZ латунь</td>\n",
       "      <td>Анкер забивной латунный, диаметр внутренней ре...</td>\n",
       "    </tr>\n",
       "  </tbody>\n",
       "</table>\n",
       "</div>"
      ],
      "text/plain": [
       "                                       record_name  \\\n",
       "0  DIN -рейка оцинкованная ТН35-7.5 100 см (Chint)   \n",
       "1              Анкерный элемент ТехноНиколь 8*45мм   \n",
       "2               Анкер забивной М10 DRM 12x40 сталь   \n",
       "3                         Анкер забивной М10/12x40   \n",
       "4                     Анкер забивной М8 LAZ латунь   \n",
       "\n",
       "                                            ref_name  \n",
       "0  DIN-рейки металлические, оцинкованные, размеры...  \n",
       "1  Анкер грунтовый забивной самораскрывающийся, о...  \n",
       "2  Анкер забивной латунный, диаметр внутренней ре...  \n",
       "3  Анкер забивной латунный, диаметр внутренней ре...  \n",
       "4  Анкер забивной латунный, диаметр внутренней ре...  "
      ]
     },
     "execution_count": 10,
     "metadata": {},
     "output_type": "execute_result"
    }
   ],
   "source": [
    "df.head()"
   ]
  },
  {
   "cell_type": "code",
   "execution_count": 4,
   "id": "a2638401",
   "metadata": {},
   "outputs": [],
   "source": [
    "from rapidfuzz import fuzz\n"
   ]
  },
  {
   "cell_type": "code",
   "execution_count": 6,
   "id": "bed34d05",
   "metadata": {},
   "outputs": [],
   "source": [
    "def calculate_similarity(ksr, pred):\n",
    "    similarity = []\n",
    "\n",
    "    for ksr_item in ksr:\n",
    "        similarity += [fuzz.ratio(ksr_item, pred)]\n",
    "    return similarity"
   ]
  },
  {
   "cell_type": "code",
   "execution_count": 59,
   "id": "aba1c130",
   "metadata": {},
   "outputs": [],
   "source": [
    "def top_3(data, i, n_similar):\n",
    "    data['similarity_score'] = calculate_skill_similarity(data['record_name'], data['record_name'][i])\n",
    "    data = data.sort_values(by = 'similarity_score')\n",
    "    return data.iloc[-(n_similar+1):-1]"
   ]
  },
  {
   "cell_type": "code",
   "execution_count": 60,
   "id": "8a618c4f",
   "metadata": {},
   "outputs": [
    {
     "data": {
      "text/plain": [
       "'Анкерный стержень 15,0мм без покрытия 1,00м'"
      ]
     },
     "execution_count": 60,
     "metadata": {},
     "output_type": "execute_result"
    }
   ],
   "source": [
    "df['record_name'][7]"
   ]
  },
  {
   "cell_type": "code",
   "execution_count": 64,
   "id": "400697e8",
   "metadata": {},
   "outputs": [
    {
     "data": {
      "text/html": [
       "<div>\n",
       "<style scoped>\n",
       "    .dataframe tbody tr th:only-of-type {\n",
       "        vertical-align: middle;\n",
       "    }\n",
       "\n",
       "    .dataframe tbody tr th {\n",
       "        vertical-align: top;\n",
       "    }\n",
       "\n",
       "    .dataframe thead th {\n",
       "        text-align: right;\n",
       "    }\n",
       "</style>\n",
       "<table border=\"1\" class=\"dataframe\">\n",
       "  <thead>\n",
       "    <tr style=\"text-align: right;\">\n",
       "      <th></th>\n",
       "      <th>record_name</th>\n",
       "      <th>ref_name</th>\n",
       "      <th>similarity_score</th>\n",
       "    </tr>\n",
       "  </thead>\n",
       "  <tbody>\n",
       "    <tr>\n",
       "      <th>1</th>\n",
       "      <td>Анкерный элемент ТехноНиколь 8*45мм</td>\n",
       "      <td>Анкер грунтовый забивной самораскрывающийся, о...</td>\n",
       "      <td>46.153846</td>\n",
       "    </tr>\n",
       "    <tr>\n",
       "      <th>9</th>\n",
       "      <td>Анкерный стержень 15,0мм без покрытия, неоцинк...</td>\n",
       "      <td>Анкер металлический канатный, диаметр грузонес...</td>\n",
       "      <td>82.352941</td>\n",
       "    </tr>\n",
       "    <tr>\n",
       "      <th>8</th>\n",
       "      <td>Анкерный стержень 15,0мм без покрытия, неоцинк...</td>\n",
       "      <td>Анкер металлический канатный, диаметр грузонес...</td>\n",
       "      <td>82.352941</td>\n",
       "    </tr>\n",
       "  </tbody>\n",
       "</table>\n",
       "</div>"
      ],
      "text/plain": [
       "                                         record_name  \\\n",
       "1                Анкерный элемент ТехноНиколь 8*45мм   \n",
       "9  Анкерный стержень 15,0мм без покрытия, неоцинк...   \n",
       "8  Анкерный стержень 15,0мм без покрытия, неоцинк...   \n",
       "\n",
       "                                            ref_name  similarity_score  \n",
       "1  Анкер грунтовый забивной самораскрывающийся, о...         46.153846  \n",
       "9  Анкер металлический канатный, диаметр грузонес...         82.352941  \n",
       "8  Анкер металлический канатный, диаметр грузонес...         82.352941  "
      ]
     },
     "execution_count": 64,
     "metadata": {},
     "output_type": "execute_result"
    }
   ],
   "source": [
    "top_3(df, 7, 3)"
   ]
  },
  {
   "cell_type": "code",
   "execution_count": 50,
   "id": "00a8a067",
   "metadata": {},
   "outputs": [
    {
     "data": {
      "text/plain": [
       "2407"
      ]
     },
     "execution_count": 50,
     "metadata": {},
     "output_type": "execute_result"
    }
   ],
   "source": [
    "df.shape[0]"
   ]
  },
  {
   "cell_type": "code",
   "execution_count": null,
   "id": "1976af9a",
   "metadata": {},
   "outputs": [],
   "source": []
  },
  {
   "cell_type": "code",
   "execution_count": null,
   "id": "7c40f369",
   "metadata": {},
   "outputs": [],
   "source": []
  },
  {
   "cell_type": "code",
   "execution_count": 65,
   "id": "25101807",
   "metadata": {},
   "outputs": [],
   "source": [
    "def new_df(data, n_similar):\n",
    "    promt_df = pd.DataFrame(columns=data.columns)\n",
    "    \n",
    "    for i in range(0,data.shape[0]):\n",
    "        promt = top_3(data,i, n_similar)\n",
    "        promt_df = pd.concat([promt_df, promt])\n",
    "    return promt_df"
   ]
  },
  {
   "cell_type": "code",
   "execution_count": 66,
   "id": "81eeb357",
   "metadata": {},
   "outputs": [],
   "source": [
    "res = new_df(df,3)"
   ]
  },
  {
   "cell_type": "code",
   "execution_count": 67,
   "id": "d1cec78a",
   "metadata": {},
   "outputs": [
    {
     "data": {
      "text/html": [
       "<div>\n",
       "<style scoped>\n",
       "    .dataframe tbody tr th:only-of-type {\n",
       "        vertical-align: middle;\n",
       "    }\n",
       "\n",
       "    .dataframe tbody tr th {\n",
       "        vertical-align: top;\n",
       "    }\n",
       "\n",
       "    .dataframe thead th {\n",
       "        text-align: right;\n",
       "    }\n",
       "</style>\n",
       "<table border=\"1\" class=\"dataframe\">\n",
       "  <thead>\n",
       "    <tr style=\"text-align: right;\">\n",
       "      <th></th>\n",
       "      <th>record_name</th>\n",
       "      <th>ref_name</th>\n",
       "      <th>similarity_score</th>\n",
       "    </tr>\n",
       "  </thead>\n",
       "  <tbody>\n",
       "    <tr>\n",
       "      <th>325</th>\n",
       "      <td>Гайка оцинкованная М16</td>\n",
       "      <td>Гайки стальные оцинкованные шестигранные, диам...</td>\n",
       "      <td>52.173913</td>\n",
       "    </tr>\n",
       "    <tr>\n",
       "      <th>320</th>\n",
       "      <td>Гайка оцинкованная М14</td>\n",
       "      <td>Гайки стальные оцинкованные шестигранные, диам...</td>\n",
       "      <td>52.173913</td>\n",
       "    </tr>\n",
       "    <tr>\n",
       "      <th>1973</th>\n",
       "      <td>Сетка сварная оцинкованная 50x50x4 мм</td>\n",
       "      <td>Сетка стальная сварная из оцинкованной проволо...</td>\n",
       "      <td>52.380952</td>\n",
       "    </tr>\n",
       "    <tr>\n",
       "      <th>111</th>\n",
       "      <td>Анкерный болт с гайкой 20*200</td>\n",
       "      <td>Болты анкерные с гайкой стальные фрикционные р...</td>\n",
       "      <td>50.000000</td>\n",
       "    </tr>\n",
       "    <tr>\n",
       "      <th>110</th>\n",
       "      <td>Анкерный болт КТ 16х150</td>\n",
       "      <td>Болты анкерные с гайкой стальные фрикционные р...</td>\n",
       "      <td>51.724138</td>\n",
       "    </tr>\n",
       "    <tr>\n",
       "      <th>...</th>\n",
       "      <td>...</td>\n",
       "      <td>...</td>\n",
       "      <td>...</td>\n",
       "    </tr>\n",
       "    <tr>\n",
       "      <th>2403</th>\n",
       "      <td>Эмаль Кремнийорганическая Термостойкая (8) 81....</td>\n",
       "      <td>Эмаль кремнийорганическая термостойкая КО-811К...</td>\n",
       "      <td>58.490566</td>\n",
       "    </tr>\n",
       "    <tr>\n",
       "      <th>2404</th>\n",
       "      <td>Кремнийорганическая эмаль КО-8104</td>\n",
       "      <td>Эмаль кремнийорганическая термостойкая КО-88</td>\n",
       "      <td>77.647059</td>\n",
       "    </tr>\n",
       "    <tr>\n",
       "      <th>873</th>\n",
       "      <td>Кабель ААШв-10 3х120 Камкабель</td>\n",
       "      <td>Кабель силовой гибкий с медными жилами КГЭ 3х1...</td>\n",
       "      <td>44.000000</td>\n",
       "    </tr>\n",
       "    <tr>\n",
       "      <th>1882</th>\n",
       "      <td>Кабель ПВС 3*1,5 380V (бухта)</td>\n",
       "      <td>Провод силовой гибкий с медными жилами ПВС 3х4</td>\n",
       "      <td>44.897959</td>\n",
       "    </tr>\n",
       "    <tr>\n",
       "      <th>885</th>\n",
       "      <td>Кабель КГ 1x16 Цветлит</td>\n",
       "      <td>Кабель силовой гибкий с медными жилами КГЭ 3х5...</td>\n",
       "      <td>47.619048</td>\n",
       "    </tr>\n",
       "  </tbody>\n",
       "</table>\n",
       "<p>7221 rows × 3 columns</p>\n",
       "</div>"
      ],
      "text/plain": [
       "                                            record_name  \\\n",
       "325                              Гайка оцинкованная М16   \n",
       "320                              Гайка оцинкованная М14   \n",
       "1973              Сетка сварная оцинкованная 50x50x4 мм   \n",
       "111                       Анкерный болт с гайкой 20*200   \n",
       "110                             Анкерный болт КТ 16х150   \n",
       "...                                                 ...   \n",
       "2403  Эмаль Кремнийорганическая Термостойкая (8) 81....   \n",
       "2404                  Кремнийорганическая эмаль КО-8104   \n",
       "873                      Кабель ААШв-10 3х120 Камкабель   \n",
       "1882                      Кабель ПВС 3*1,5 380V (бухта)   \n",
       "885                              Кабель КГ 1x16 Цветлит   \n",
       "\n",
       "                                               ref_name  similarity_score  \n",
       "325   Гайки стальные оцинкованные шестигранные, диам...         52.173913  \n",
       "320   Гайки стальные оцинкованные шестигранные, диам...         52.173913  \n",
       "1973  Сетка стальная сварная из оцинкованной проволо...         52.380952  \n",
       "111   Болты анкерные с гайкой стальные фрикционные р...         50.000000  \n",
       "110   Болты анкерные с гайкой стальные фрикционные р...         51.724138  \n",
       "...                                                 ...               ...  \n",
       "2403  Эмаль кремнийорганическая термостойкая КО-811К...         58.490566  \n",
       "2404       Эмаль кремнийорганическая термостойкая КО-88         77.647059  \n",
       "873   Кабель силовой гибкий с медными жилами КГЭ 3х1...         44.000000  \n",
       "1882     Провод силовой гибкий с медными жилами ПВС 3х4         44.897959  \n",
       "885   Кабель силовой гибкий с медными жилами КГЭ 3х5...         47.619048  \n",
       "\n",
       "[7221 rows x 3 columns]"
      ]
     },
     "execution_count": 67,
     "metadata": {},
     "output_type": "execute_result"
    }
   ],
   "source": [
    "res"
   ]
  },
  {
   "cell_type": "code",
   "execution_count": null,
   "id": "4fdb107b",
   "metadata": {},
   "outputs": [],
   "source": [
    "def top_3(data, i, n_similar):\n",
    "    data['similarity_score'] = calculate_skill_similarity(data['record_name'], data['record_name'][i])\n",
    "    data = data.sort_values(by = 'similarity_score')\n",
    "    return data.iloc[-(n_similar+1):-1]"
   ]
  },
  {
   "cell_type": "code",
   "execution_count": null,
   "id": "de1a528a",
   "metadata": {},
   "outputs": [],
   "source": [
    "def calculate_similarity(ksr, pred):\n",
    "    similarity = []\n",
    "\n",
    "    for ksr_item in ksr:\n",
    "        similarity += [fuzz.ratio(ksr_item, pred)]\n",
    "    return similarity"
   ]
  },
  {
   "cell_type": "code",
   "execution_count": 70,
   "id": "07707ded",
   "metadata": {},
   "outputs": [],
   "source": [
    "def Similar_df(data, n_similar):\n",
    "    sm_df = pd.DataFrame(columns=data.columns)\n",
    "    top = pd.DataFrame(columns=data.columns)\n",
    "    for i in range(0,data.shape[0]):\n",
    "        \n",
    "        similarity = []\n",
    "        for ksr_item in ksr:\n",
    "        similarity += [fuzz.ratio(ksr_item, pred)]\n",
    "        \n",
    "        data['similarity_score'] = calculate_skill_similarity(data['record_name'], data['record_name'][i])\n",
    "        top = data.sort_values(by = 'similarity_score')\n",
    "        top = top.iloc[-(n_similar+1):-1]\n",
    "        \n",
    "        sm_df = pd.concat([sm_df, top])\n",
    "    return sm_df"
   ]
  },
  {
   "cell_type": "code",
   "execution_count": 71,
   "id": "da9397f6",
   "metadata": {},
   "outputs": [],
   "source": [
    "res = Similar_df(df,3)"
   ]
  },
  {
   "cell_type": "code",
   "execution_count": 72,
   "id": "5a24b64c",
   "metadata": {},
   "outputs": [
    {
     "data": {
      "text/html": [
       "<div>\n",
       "<style scoped>\n",
       "    .dataframe tbody tr th:only-of-type {\n",
       "        vertical-align: middle;\n",
       "    }\n",
       "\n",
       "    .dataframe tbody tr th {\n",
       "        vertical-align: top;\n",
       "    }\n",
       "\n",
       "    .dataframe thead th {\n",
       "        text-align: right;\n",
       "    }\n",
       "</style>\n",
       "<table border=\"1\" class=\"dataframe\">\n",
       "  <thead>\n",
       "    <tr style=\"text-align: right;\">\n",
       "      <th></th>\n",
       "      <th>record_name</th>\n",
       "      <th>ref_name</th>\n",
       "      <th>similarity_score</th>\n",
       "    </tr>\n",
       "  </thead>\n",
       "  <tbody>\n",
       "    <tr>\n",
       "      <th>325</th>\n",
       "      <td>Гайка оцинкованная М16</td>\n",
       "      <td>Гайки стальные оцинкованные шестигранные, диам...</td>\n",
       "      <td>52.173913</td>\n",
       "    </tr>\n",
       "    <tr>\n",
       "      <th>320</th>\n",
       "      <td>Гайка оцинкованная М14</td>\n",
       "      <td>Гайки стальные оцинкованные шестигранные, диам...</td>\n",
       "      <td>52.173913</td>\n",
       "    </tr>\n",
       "    <tr>\n",
       "      <th>1973</th>\n",
       "      <td>Сетка сварная оцинкованная 50x50x4 мм</td>\n",
       "      <td>Сетка стальная сварная из оцинкованной проволо...</td>\n",
       "      <td>52.380952</td>\n",
       "    </tr>\n",
       "    <tr>\n",
       "      <th>111</th>\n",
       "      <td>Анкерный болт с гайкой 20*200</td>\n",
       "      <td>Болты анкерные с гайкой стальные фрикционные р...</td>\n",
       "      <td>50.000000</td>\n",
       "    </tr>\n",
       "    <tr>\n",
       "      <th>110</th>\n",
       "      <td>Анкерный болт КТ 16х150</td>\n",
       "      <td>Болты анкерные с гайкой стальные фрикционные р...</td>\n",
       "      <td>51.724138</td>\n",
       "    </tr>\n",
       "    <tr>\n",
       "      <th>...</th>\n",
       "      <td>...</td>\n",
       "      <td>...</td>\n",
       "      <td>...</td>\n",
       "    </tr>\n",
       "    <tr>\n",
       "      <th>2403</th>\n",
       "      <td>Эмаль Кремнийорганическая Термостойкая (8) 81....</td>\n",
       "      <td>Эмаль кремнийорганическая термостойкая КО-811К...</td>\n",
       "      <td>58.490566</td>\n",
       "    </tr>\n",
       "    <tr>\n",
       "      <th>2404</th>\n",
       "      <td>Кремнийорганическая эмаль КО-8104</td>\n",
       "      <td>Эмаль кремнийорганическая термостойкая КО-88</td>\n",
       "      <td>77.647059</td>\n",
       "    </tr>\n",
       "    <tr>\n",
       "      <th>873</th>\n",
       "      <td>Кабель ААШв-10 3х120 Камкабель</td>\n",
       "      <td>Кабель силовой гибкий с медными жилами КГЭ 3х1...</td>\n",
       "      <td>44.000000</td>\n",
       "    </tr>\n",
       "    <tr>\n",
       "      <th>1882</th>\n",
       "      <td>Кабель ПВС 3*1,5 380V (бухта)</td>\n",
       "      <td>Провод силовой гибкий с медными жилами ПВС 3х4</td>\n",
       "      <td>44.897959</td>\n",
       "    </tr>\n",
       "    <tr>\n",
       "      <th>885</th>\n",
       "      <td>Кабель КГ 1x16 Цветлит</td>\n",
       "      <td>Кабель силовой гибкий с медными жилами КГЭ 3х5...</td>\n",
       "      <td>47.619048</td>\n",
       "    </tr>\n",
       "  </tbody>\n",
       "</table>\n",
       "<p>7221 rows × 3 columns</p>\n",
       "</div>"
      ],
      "text/plain": [
       "                                            record_name  \\\n",
       "325                              Гайка оцинкованная М16   \n",
       "320                              Гайка оцинкованная М14   \n",
       "1973              Сетка сварная оцинкованная 50x50x4 мм   \n",
       "111                       Анкерный болт с гайкой 20*200   \n",
       "110                             Анкерный болт КТ 16х150   \n",
       "...                                                 ...   \n",
       "2403  Эмаль Кремнийорганическая Термостойкая (8) 81....   \n",
       "2404                  Кремнийорганическая эмаль КО-8104   \n",
       "873                      Кабель ААШв-10 3х120 Камкабель   \n",
       "1882                      Кабель ПВС 3*1,5 380V (бухта)   \n",
       "885                              Кабель КГ 1x16 Цветлит   \n",
       "\n",
       "                                               ref_name  similarity_score  \n",
       "325   Гайки стальные оцинкованные шестигранные, диам...         52.173913  \n",
       "320   Гайки стальные оцинкованные шестигранные, диам...         52.173913  \n",
       "1973  Сетка стальная сварная из оцинкованной проволо...         52.380952  \n",
       "111   Болты анкерные с гайкой стальные фрикционные р...         50.000000  \n",
       "110   Болты анкерные с гайкой стальные фрикционные р...         51.724138  \n",
       "...                                                 ...               ...  \n",
       "2403  Эмаль кремнийорганическая термостойкая КО-811К...         58.490566  \n",
       "2404       Эмаль кремнийорганическая термостойкая КО-88         77.647059  \n",
       "873   Кабель силовой гибкий с медными жилами КГЭ 3х1...         44.000000  \n",
       "1882     Провод силовой гибкий с медными жилами ПВС 3х4         44.897959  \n",
       "885   Кабель силовой гибкий с медными жилами КГЭ 3х5...         47.619048  \n",
       "\n",
       "[7221 rows x 3 columns]"
      ]
     },
     "execution_count": 72,
     "metadata": {},
     "output_type": "execute_result"
    }
   ],
   "source": [
    "res"
   ]
  },
  {
   "cell_type": "code",
   "execution_count": null,
   "id": "e860d9d5",
   "metadata": {},
   "outputs": [],
   "source": []
  }
 ],
 "metadata": {
  "kernelspec": {
   "display_name": "Python 3 (ipykernel)",
   "language": "python",
   "name": "python3"
  },
  "language_info": {
   "codemirror_mode": {
    "name": "ipython",
    "version": 3
   },
   "file_extension": ".py",
   "mimetype": "text/x-python",
   "name": "python",
   "nbconvert_exporter": "python",
   "pygments_lexer": "ipython3",
   "version": "3.11.5"
  }
 },
 "nbformat": 4,
 "nbformat_minor": 5
}
