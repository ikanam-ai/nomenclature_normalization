{
 "cells": [
  {
   "cell_type": "code",
   "execution_count": 1,
   "id": "5e9789a6",
   "metadata": {},
   "outputs": [],
   "source": [
    "import pandas as pd"
   ]
  },
  {
   "cell_type": "code",
   "execution_count": 5,
   "id": "5833bcaa",
   "metadata": {},
   "outputs": [],
   "source": [
    "import warnings\n",
    "warnings.filterwarnings(\"ignore\")"
   ]
  },
  {
   "cell_type": "code",
   "execution_count": 29,
   "id": "dd793036",
   "metadata": {},
   "outputs": [],
   "source": [
    "df = pd.read_excel('classification.xlsx', header=1, sheet_name = 0)"
   ]
  },
  {
   "cell_type": "code",
   "execution_count": 31,
   "id": "ac82a20c",
   "metadata": {},
   "outputs": [],
   "source": [
    "df1 = pd.read_excel('classification.xlsx', header=1, sheet_name = 1)  # Замените 'your_file.xlsx' на имя вашего файла\n"
   ]
  },
  {
   "cell_type": "code",
   "execution_count": 33,
   "id": "0bc930eb",
   "metadata": {},
   "outputs": [],
   "source": [
    "df = pd.concat([df, df1])"
   ]
  },
  {
   "cell_type": "code",
   "execution_count": 36,
   "id": "d63f9da7",
   "metadata": {},
   "outputs": [],
   "source": [
    "def all_values_same(row):\n",
    "    return row.nunique() == 1\n",
    "\n",
    "df_filtered = df[~df.apply(all_values_same, axis=1)]"
   ]
  },
  {
   "cell_type": "code",
   "execution_count": 38,
   "id": "a342cc2e",
   "metadata": {},
   "outputs": [],
   "source": [
    "df_filtered.dropna(how='all', inplace=True)"
   ]
  },
  {
   "cell_type": "code",
   "execution_count": 41,
   "id": "46ac0485",
   "metadata": {},
   "outputs": [],
   "source": [
    "df_filtered['Длина кода'] = df_filtered['Код ресурса'].astype(str).apply(len)\n",
    "\n",
    "result_df = df_filtered.loc[df_filtered.groupby('Наименование')['Длина кода'].idxmax()]\n",
    "\n",
    "result_df = result_df.drop(columns='Длина кода')"
   ]
  },
  {
   "cell_type": "code",
   "execution_count": 46,
   "id": "1452b2d1",
   "metadata": {},
   "outputs": [
    {
     "data": {
      "text/html": [
       "<div>\n",
       "<style scoped>\n",
       "    .dataframe tbody tr th:only-of-type {\n",
       "        vertical-align: middle;\n",
       "    }\n",
       "\n",
       "    .dataframe tbody tr th {\n",
       "        vertical-align: top;\n",
       "    }\n",
       "\n",
       "    .dataframe thead th {\n",
       "        text-align: right;\n",
       "    }\n",
       "</style>\n",
       "<table border=\"1\" class=\"dataframe\">\n",
       "  <thead>\n",
       "    <tr style=\"text-align: right;\">\n",
       "      <th></th>\n",
       "      <th>Код ресурса</th>\n",
       "      <th>Наименование</th>\n",
       "      <th>Ед.изм.</th>\n",
       "    </tr>\n",
       "  </thead>\n",
       "  <tbody>\n",
       "    <tr>\n",
       "      <th>152177</th>\n",
       "      <td>27.33.13.130.59.1.20.02-2887-000</td>\n",
       "      <td>DIN-рейка 15x5,5 мм перфорированная, горячеоци...</td>\n",
       "      <td>м</td>\n",
       "    </tr>\n",
       "    <tr>\n",
       "      <th>152179</th>\n",
       "      <td>27.33.13.130.59.1.20.02-2888-000</td>\n",
       "      <td>DIN-рейка 15x5,5 мм перфорированная, из нержав...</td>\n",
       "      <td>м</td>\n",
       "    </tr>\n",
       "    <tr>\n",
       "      <th>152181</th>\n",
       "      <td>27.33.13.130.59.1.20.02-2889-000</td>\n",
       "      <td>DIN-рейка 15x5,5 мм перфорированная, из оцинко...</td>\n",
       "      <td>м</td>\n",
       "    </tr>\n",
       "    <tr>\n",
       "      <th>152199</th>\n",
       "      <td>27.33.13.130.59.1.20.02-2898-000</td>\n",
       "      <td>DIN-рейка 35x15 мм перфорированная, горячеоцин...</td>\n",
       "      <td>м</td>\n",
       "    </tr>\n",
       "    <tr>\n",
       "      <th>152201</th>\n",
       "      <td>27.33.13.130.59.1.20.02-2899-000</td>\n",
       "      <td>DIN-рейка 35x15 мм перфорированная, из нержаве...</td>\n",
       "      <td>м</td>\n",
       "    </tr>\n",
       "    <tr>\n",
       "      <th>...</th>\n",
       "      <td>...</td>\n",
       "      <td>...</td>\n",
       "      <td>...</td>\n",
       "    </tr>\n",
       "    <tr>\n",
       "      <th>208368</th>\n",
       "      <td>27.12.31.000.89.1.62.01-0749-000</td>\n",
       "      <td>Ящики силовые с понижающим трансформатором, кл...</td>\n",
       "      <td>шт</td>\n",
       "    </tr>\n",
       "    <tr>\n",
       "      <th>208338</th>\n",
       "      <td>27.12.31.000.89.1.62.01-0734-000</td>\n",
       "      <td>Ящики силовые, тип ЯВЗ-32-1, с выключателем, 3...</td>\n",
       "      <td>шт</td>\n",
       "    </tr>\n",
       "    <tr>\n",
       "      <th>208048</th>\n",
       "      <td>27.12.31.000.89.1.62.01-0589-000</td>\n",
       "      <td>Ящики управления двигателями, тип РУСМ 5111-18...</td>\n",
       "      <td>шт</td>\n",
       "    </tr>\n",
       "    <tr>\n",
       "      <th>208212</th>\n",
       "      <td>27.12.31.000.89.1.62.01-0671-000</td>\n",
       "      <td>Ящики, тип Я8101-397-54У1, распределительные с...</td>\n",
       "      <td>шт</td>\n",
       "    </tr>\n",
       "    <tr>\n",
       "      <th>208332</th>\n",
       "      <td>27.12.31.000.89.1.62.01-0731-000</td>\n",
       "      <td>Ящики, тип ЯТП-0.25, с трансформатором понижающим</td>\n",
       "      <td>шт</td>\n",
       "    </tr>\n",
       "  </tbody>\n",
       "</table>\n",
       "<p>113042 rows × 3 columns</p>\n",
       "</div>"
      ],
      "text/plain": [
       "                             Код ресурса  \\\n",
       "152177  27.33.13.130.59.1.20.02-2887-000   \n",
       "152179  27.33.13.130.59.1.20.02-2888-000   \n",
       "152181  27.33.13.130.59.1.20.02-2889-000   \n",
       "152199  27.33.13.130.59.1.20.02-2898-000   \n",
       "152201  27.33.13.130.59.1.20.02-2899-000   \n",
       "...                                  ...   \n",
       "208368  27.12.31.000.89.1.62.01-0749-000   \n",
       "208338  27.12.31.000.89.1.62.01-0734-000   \n",
       "208048  27.12.31.000.89.1.62.01-0589-000   \n",
       "208212  27.12.31.000.89.1.62.01-0671-000   \n",
       "208332  27.12.31.000.89.1.62.01-0731-000   \n",
       "\n",
       "                                             Наименование Ед.изм.  \n",
       "152177  DIN-рейка 15x5,5 мм перфорированная, горячеоци...       м  \n",
       "152179  DIN-рейка 15x5,5 мм перфорированная, из нержав...       м  \n",
       "152181  DIN-рейка 15x5,5 мм перфорированная, из оцинко...       м  \n",
       "152199  DIN-рейка 35x15 мм перфорированная, горячеоцин...       м  \n",
       "152201  DIN-рейка 35x15 мм перфорированная, из нержаве...       м  \n",
       "...                                                   ...     ...  \n",
       "208368  Ящики силовые с понижающим трансформатором, кл...      шт  \n",
       "208338  Ящики силовые, тип ЯВЗ-32-1, с выключателем, 3...      шт  \n",
       "208048  Ящики управления двигателями, тип РУСМ 5111-18...      шт  \n",
       "208212  Ящики, тип Я8101-397-54У1, распределительные с...      шт  \n",
       "208332  Ящики, тип ЯТП-0.25, с трансформатором понижающим      шт  \n",
       "\n",
       "[113042 rows x 3 columns]"
      ]
     },
     "execution_count": 46,
     "metadata": {},
     "output_type": "execute_result"
    }
   ],
   "source": [
    "result_df"
   ]
  },
  {
   "cell_type": "code",
   "execution_count": 45,
   "id": "dc1bcd22",
   "metadata": {},
   "outputs": [],
   "source": [
    "result_df.to_csv('ksr_clean.csv', index = False)"
   ]
  },
  {
   "cell_type": "code",
   "execution_count": null,
   "id": "074a8ee8",
   "metadata": {},
   "outputs": [],
   "source": []
  }
 ],
 "metadata": {
  "kernelspec": {
   "display_name": "Python 3 (ipykernel)",
   "language": "python",
   "name": "python3"
  },
  "language_info": {
   "codemirror_mode": {
    "name": "ipython",
    "version": 3
   },
   "file_extension": ".py",
   "mimetype": "text/x-python",
   "name": "python",
   "nbconvert_exporter": "python",
   "pygments_lexer": "ipython3",
   "version": "3.11.5"
  }
 },
 "nbformat": 4,
 "nbformat_minor": 5
}
